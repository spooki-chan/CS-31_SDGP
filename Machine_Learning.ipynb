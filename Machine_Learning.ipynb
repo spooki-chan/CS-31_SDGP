{
  "cells": [
    {
      "cell_type": "markdown",
      "metadata": {
        "colab_type": "text",
        "id": "view-in-github"
      },
      "source": [
        "<a href=\"https://colab.research.google.com/github/spooki-chan/CS-31_SDGP/blob/sub/Machine_Learning.ipynb\" target=\"_parent\"><img src=\"https://colab.research.google.com/assets/colab-badge.svg\" alt=\"Open In Colab\"/></a>"
      ]
    },
    {
      "cell_type": "code",
      "execution_count": 154,
      "metadata": {
        "id": "A1mYWTnbiJY8"
      },
      "outputs": [],
      "source": [
        "import pandas as pd\n",
        "import numpy as np\n",
        " "
      ]
    },
    {
      "cell_type": "code",
      "execution_count": 152,
      "metadata": {
        "id": "DrOgOE3Qj7y2"
      },
      "outputs": [],
      "source": [
        "df=pd.read_csv(\"newfood.csv\")"
      ]
    },
    {
      "cell_type": "code",
      "execution_count": 153,
      "metadata": {
        "colab": {
          "base_uri": "https://localhost:8080/",
          "height": 956
        },
        "id": "FJpDELcElUxq",
        "outputId": "19b809c2-45d3-4115-c4b2-3ac31cc1fde7"
      },
      "outputs": [
        {
          "data": {
            "text/html": [
              "<div>\n",
              "<style scoped>\n",
              "    .dataframe tbody tr th:only-of-type {\n",
              "        vertical-align: middle;\n",
              "    }\n",
              "\n",
              "    .dataframe tbody tr th {\n",
              "        vertical-align: top;\n",
              "    }\n",
              "\n",
              "    .dataframe thead th {\n",
              "        text-align: right;\n",
              "    }\n",
              "</style>\n",
              "<table border=\"1\" class=\"dataframe\">\n",
              "  <thead>\n",
              "    <tr style=\"text-align: right;\">\n",
              "      <th></th>\n",
              "      <th>id</th>\n",
              "      <th>title</th>\n",
              "      <th>pricePerServing</th>\n",
              "      <th>weightPerServing</th>\n",
              "      <th>vegetarian</th>\n",
              "      <th>vegan</th>\n",
              "      <th>glutenFree</th>\n",
              "      <th>dairyFree</th>\n",
              "      <th>sustainable</th>\n",
              "      <th>veryHealthy</th>\n",
              "      <th>...</th>\n",
              "      <th>Vitamin D/µg</th>\n",
              "      <th>Vitamin K/µg</th>\n",
              "      <th>Vitamin C/mg</th>\n",
              "      <th>Alcohol/g</th>\n",
              "      <th>Caffeine/g</th>\n",
              "      <th>stars</th>\n",
              "      <th>popularity</th>\n",
              "      <th>userId</th>\n",
              "      <th>tfdbId</th>\n",
              "      <th>recipeId</th>\n",
              "    </tr>\n",
              "  </thead>\n",
              "  <tbody>\n",
              "    <tr>\n",
              "      <th>0</th>\n",
              "      <td>1</td>\n",
              "      <td>Fried Anchovies with Sage</td>\n",
              "      <td>5.6051</td>\n",
              "      <td>226</td>\n",
              "      <td>False</td>\n",
              "      <td>False</td>\n",
              "      <td>False</td>\n",
              "      <td>True</td>\n",
              "      <td>False</td>\n",
              "      <td>False</td>\n",
              "      <td>...</td>\n",
              "      <td>0.29</td>\n",
              "      <td>0.00</td>\n",
              "      <td>0.00</td>\n",
              "      <td>0.0</td>\n",
              "      <td>0.0</td>\n",
              "      <td>3</td>\n",
              "      <td>150.437577</td>\n",
              "      <td>1</td>\n",
              "      <td>1</td>\n",
              "      <td>1915</td>\n",
              "    </tr>\n",
              "    <tr>\n",
              "      <th>1</th>\n",
              "      <td>2</td>\n",
              "      <td>Anchovies Appetizer With Breadcrumbs &amp; Scallions</td>\n",
              "      <td>0.8206</td>\n",
              "      <td>33</td>\n",
              "      <td>False</td>\n",
              "      <td>False</td>\n",
              "      <td>False</td>\n",
              "      <td>True</td>\n",
              "      <td>False</td>\n",
              "      <td>False</td>\n",
              "      <td>...</td>\n",
              "      <td>0.00</td>\n",
              "      <td>7.18</td>\n",
              "      <td>0.00</td>\n",
              "      <td>0.0</td>\n",
              "      <td>0.0</td>\n",
              "      <td>1</td>\n",
              "      <td>139.082615</td>\n",
              "      <td>1</td>\n",
              "      <td>2</td>\n",
              "      <td>1916</td>\n",
              "    </tr>\n",
              "    <tr>\n",
              "      <th>2</th>\n",
              "      <td>3</td>\n",
              "      <td>Carrots, Cauliflower And Anchovies</td>\n",
              "      <td>4.3800</td>\n",
              "      <td>364</td>\n",
              "      <td>False</td>\n",
              "      <td>False</td>\n",
              "      <td>False</td>\n",
              "      <td>True</td>\n",
              "      <td>False</td>\n",
              "      <td>True</td>\n",
              "      <td>...</td>\n",
              "      <td>0.00</td>\n",
              "      <td>104.27</td>\n",
              "      <td>32.60</td>\n",
              "      <td>0.0</td>\n",
              "      <td>0.0</td>\n",
              "      <td>4</td>\n",
              "      <td>107.376788</td>\n",
              "      <td>1</td>\n",
              "      <td>3</td>\n",
              "      <td>1918</td>\n",
              "    </tr>\n",
              "    <tr>\n",
              "      <th>3</th>\n",
              "      <td>4</td>\n",
              "      <td>Bap Story Stir Fried Anchovies (Myulchi Bokkeum)</td>\n",
              "      <td>8.1122</td>\n",
              "      <td>711</td>\n",
              "      <td>False</td>\n",
              "      <td>False</td>\n",
              "      <td>True</td>\n",
              "      <td>True</td>\n",
              "      <td>False</td>\n",
              "      <td>True</td>\n",
              "      <td>...</td>\n",
              "      <td>6.24</td>\n",
              "      <td>16.02</td>\n",
              "      <td>3.88</td>\n",
              "      <td>0.0</td>\n",
              "      <td>0.0</td>\n",
              "      <td>3</td>\n",
              "      <td>112.312950</td>\n",
              "      <td>1</td>\n",
              "      <td>4</td>\n",
              "      <td>1919</td>\n",
              "    </tr>\n",
              "    <tr>\n",
              "      <th>4</th>\n",
              "      <td>5</td>\n",
              "      <td>Bread, Butter And Anchovies</td>\n",
              "      <td>0.2557</td>\n",
              "      <td>36</td>\n",
              "      <td>False</td>\n",
              "      <td>False</td>\n",
              "      <td>False</td>\n",
              "      <td>False</td>\n",
              "      <td>False</td>\n",
              "      <td>False</td>\n",
              "      <td>...</td>\n",
              "      <td>0.00</td>\n",
              "      <td>2.21</td>\n",
              "      <td>0.00</td>\n",
              "      <td>0.0</td>\n",
              "      <td>0.0</td>\n",
              "      <td>5</td>\n",
              "      <td>43.926995</td>\n",
              "      <td>1</td>\n",
              "      <td>5</td>\n",
              "      <td>1920</td>\n",
              "    </tr>\n",
              "    <tr>\n",
              "      <th>...</th>\n",
              "      <td>...</td>\n",
              "      <td>...</td>\n",
              "      <td>...</td>\n",
              "      <td>...</td>\n",
              "      <td>...</td>\n",
              "      <td>...</td>\n",
              "      <td>...</td>\n",
              "      <td>...</td>\n",
              "      <td>...</td>\n",
              "      <td>...</td>\n",
              "      <td>...</td>\n",
              "      <td>...</td>\n",
              "      <td>...</td>\n",
              "      <td>...</td>\n",
              "      <td>...</td>\n",
              "      <td>...</td>\n",
              "      <td>...</td>\n",
              "      <td>...</td>\n",
              "      <td>...</td>\n",
              "      <td>...</td>\n",
              "      <td>...</td>\n",
              "    </tr>\n",
              "    <tr>\n",
              "      <th>1717</th>\n",
              "      <td>1995</td>\n",
              "      <td>Blackened Salmon Fillets</td>\n",
              "      <td>4.4589</td>\n",
              "      <td>209</td>\n",
              "      <td>False</td>\n",
              "      <td>False</td>\n",
              "      <td>True</td>\n",
              "      <td>False</td>\n",
              "      <td>False</td>\n",
              "      <td>False</td>\n",
              "      <td>...</td>\n",
              "      <td>0.43</td>\n",
              "      <td>9.61</td>\n",
              "      <td>1.43</td>\n",
              "      <td>0.0</td>\n",
              "      <td>0.0</td>\n",
              "      <td>3</td>\n",
              "      <td>37.729059</td>\n",
              "      <td>14</td>\n",
              "      <td>1995</td>\n",
              "      <td>1480</td>\n",
              "    </tr>\n",
              "    <tr>\n",
              "      <th>1718</th>\n",
              "      <td>1996</td>\n",
              "      <td>Vegetable Stew With Halibut</td>\n",
              "      <td>0.1400</td>\n",
              "      <td>32</td>\n",
              "      <td>False</td>\n",
              "      <td>False</td>\n",
              "      <td>True</td>\n",
              "      <td>False</td>\n",
              "      <td>False</td>\n",
              "      <td>False</td>\n",
              "      <td>...</td>\n",
              "      <td>0.00</td>\n",
              "      <td>2.26</td>\n",
              "      <td>3.47</td>\n",
              "      <td>0.0</td>\n",
              "      <td>0.0</td>\n",
              "      <td>4</td>\n",
              "      <td>18.650748</td>\n",
              "      <td>14</td>\n",
              "      <td>1996</td>\n",
              "      <td>1481</td>\n",
              "    </tr>\n",
              "    <tr>\n",
              "      <th>1719</th>\n",
              "      <td>1997</td>\n",
              "      <td>Snapper Tacos with Chipotle Cream</td>\n",
              "      <td>2.8066</td>\n",
              "      <td>333</td>\n",
              "      <td>False</td>\n",
              "      <td>False</td>\n",
              "      <td>False</td>\n",
              "      <td>False</td>\n",
              "      <td>False</td>\n",
              "      <td>False</td>\n",
              "      <td>...</td>\n",
              "      <td>11.79</td>\n",
              "      <td>8.64</td>\n",
              "      <td>17.63</td>\n",
              "      <td>0.0</td>\n",
              "      <td>0.0</td>\n",
              "      <td>3</td>\n",
              "      <td>15.794946</td>\n",
              "      <td>14</td>\n",
              "      <td>1997</td>\n",
              "      <td>1482</td>\n",
              "    </tr>\n",
              "    <tr>\n",
              "      <th>1720</th>\n",
              "      <td>1998</td>\n",
              "      <td>Smoky Maple-glazed Salmon Supper</td>\n",
              "      <td>6.8995</td>\n",
              "      <td>474</td>\n",
              "      <td>False</td>\n",
              "      <td>False</td>\n",
              "      <td>True</td>\n",
              "      <td>False</td>\n",
              "      <td>False</td>\n",
              "      <td>True</td>\n",
              "      <td>...</td>\n",
              "      <td>0.00</td>\n",
              "      <td>44.11</td>\n",
              "      <td>34.17</td>\n",
              "      <td>0.0</td>\n",
              "      <td>0.0</td>\n",
              "      <td>4</td>\n",
              "      <td>45.054936</td>\n",
              "      <td>14</td>\n",
              "      <td>1998</td>\n",
              "      <td>1483</td>\n",
              "    </tr>\n",
              "    <tr>\n",
              "      <th>1721</th>\n",
              "      <td>1999</td>\n",
              "      <td>spicy tomato mussels</td>\n",
              "      <td>0.3231</td>\n",
              "      <td>55</td>\n",
              "      <td>False</td>\n",
              "      <td>False</td>\n",
              "      <td>True</td>\n",
              "      <td>True</td>\n",
              "      <td>False</td>\n",
              "      <td>False</td>\n",
              "      <td>...</td>\n",
              "      <td>0.00</td>\n",
              "      <td>2.86</td>\n",
              "      <td>12.65</td>\n",
              "      <td>0.0</td>\n",
              "      <td>0.0</td>\n",
              "      <td>5</td>\n",
              "      <td>25.039383</td>\n",
              "      <td>14</td>\n",
              "      <td>1999</td>\n",
              "      <td>1484</td>\n",
              "    </tr>\n",
              "  </tbody>\n",
              "</table>\n",
              "<p>1722 rows × 63 columns</p>\n",
              "</div>"
            ],
            "text/plain": [
              "        id                                             title  pricePerServing  \\\n",
              "0        1                         Fried Anchovies with Sage           5.6051   \n",
              "1        2  Anchovies Appetizer With Breadcrumbs & Scallions           0.8206   \n",
              "2        3                Carrots, Cauliflower And Anchovies           4.3800   \n",
              "3        4  Bap Story Stir Fried Anchovies (Myulchi Bokkeum)           8.1122   \n",
              "4        5                       Bread, Butter And Anchovies           0.2557   \n",
              "...    ...                                               ...              ...   \n",
              "1717  1995                          Blackened Salmon Fillets           4.4589   \n",
              "1718  1996                       Vegetable Stew With Halibut           0.1400   \n",
              "1719  1997                 Snapper Tacos with Chipotle Cream           2.8066   \n",
              "1720  1998                  Smoky Maple-glazed Salmon Supper           6.8995   \n",
              "1721  1999                              spicy tomato mussels           0.3231   \n",
              "\n",
              "      weightPerServing  vegetarian  vegan  glutenFree  dairyFree  sustainable  \\\n",
              "0                  226       False  False       False       True        False   \n",
              "1                   33       False  False       False       True        False   \n",
              "2                  364       False  False       False       True        False   \n",
              "3                  711       False  False        True       True        False   \n",
              "4                   36       False  False       False      False        False   \n",
              "...                ...         ...    ...         ...        ...          ...   \n",
              "1717               209       False  False        True      False        False   \n",
              "1718                32       False  False        True      False        False   \n",
              "1719               333       False  False       False      False        False   \n",
              "1720               474       False  False        True      False        False   \n",
              "1721                55       False  False        True       True        False   \n",
              "\n",
              "      veryHealthy  ...  Vitamin D/µg Vitamin K/µg  Vitamin C/mg  Alcohol/g  \\\n",
              "0           False  ...          0.29         0.00          0.00        0.0   \n",
              "1           False  ...          0.00         7.18          0.00        0.0   \n",
              "2            True  ...          0.00       104.27         32.60        0.0   \n",
              "3            True  ...          6.24        16.02          3.88        0.0   \n",
              "4           False  ...          0.00         2.21          0.00        0.0   \n",
              "...           ...  ...           ...          ...           ...        ...   \n",
              "1717        False  ...          0.43         9.61          1.43        0.0   \n",
              "1718        False  ...          0.00         2.26          3.47        0.0   \n",
              "1719        False  ...         11.79         8.64         17.63        0.0   \n",
              "1720         True  ...          0.00        44.11         34.17        0.0   \n",
              "1721        False  ...          0.00         2.86         12.65        0.0   \n",
              "\n",
              "      Caffeine/g  stars  popularity userId  tfdbId  recipeId  \n",
              "0            0.0      3  150.437577      1       1      1915  \n",
              "1            0.0      1  139.082615      1       2      1916  \n",
              "2            0.0      4  107.376788      1       3      1918  \n",
              "3            0.0      3  112.312950      1       4      1919  \n",
              "4            0.0      5   43.926995      1       5      1920  \n",
              "...          ...    ...         ...    ...     ...       ...  \n",
              "1717         0.0      3   37.729059     14    1995      1480  \n",
              "1718         0.0      4   18.650748     14    1996      1481  \n",
              "1719         0.0      3   15.794946     14    1997      1482  \n",
              "1720         0.0      4   45.054936     14    1998      1483  \n",
              "1721         0.0      5   25.039383     14    1999      1484  \n",
              "\n",
              "[1722 rows x 63 columns]"
            ]
          },
          "execution_count": 153,
          "metadata": {},
          "output_type": "execute_result"
        }
      ],
      "source": [
        "df"
      ]
    },
    {
      "cell_type": "code",
      "execution_count": 155,
      "metadata": {
        "colab": {
          "base_uri": "https://localhost:8080/"
        },
        "id": "cHbrk-rpnc8d",
        "outputId": "d8820ba4-bb77-425a-d649-dd91a2bd5fd5"
      },
      "outputs": [
        {
          "name": "stdout",
          "output_type": "stream",
          "text": [
            "<class 'pandas.core.frame.DataFrame'>\n",
            "RangeIndex: 1722 entries, 0 to 1721\n",
            "Data columns (total 63 columns):\n",
            " #   Column                Non-Null Count  Dtype  \n",
            "---  ------                --------------  -----  \n",
            " 0   id                    1722 non-null   int64  \n",
            " 1   title                 1722 non-null   object \n",
            " 2   pricePerServing       1722 non-null   float64\n",
            " 3   weightPerServing      1722 non-null   int64  \n",
            " 4   vegetarian            1722 non-null   bool   \n",
            " 5   vegan                 1722 non-null   bool   \n",
            " 6   glutenFree            1722 non-null   bool   \n",
            " 7   dairyFree             1722 non-null   bool   \n",
            " 8   sustainable           1722 non-null   bool   \n",
            " 9   veryHealthy           1722 non-null   bool   \n",
            " 10  veryPopular           1722 non-null   bool   \n",
            " 11  gaps                  1722 non-null   object \n",
            " 12  lowFodmap             1722 non-null   bool   \n",
            " 13  ketogenic             1722 non-null   bool   \n",
            " 14  whole30               1722 non-null   bool   \n",
            " 15  readyInMinutes        1722 non-null   int64  \n",
            " 16  spoonacularSourceUrl  1722 non-null   object \n",
            " 17  image                 1718 non-null   object \n",
            " 18  aggregateLikes        1722 non-null   int64  \n",
            " 19  spoonacularScore      1722 non-null   int64  \n",
            " 20  healthScore           1722 non-null   int64  \n",
            " 21  percentProtein        1722 non-null   float64\n",
            " 22  percentFat            1722 non-null   float64\n",
            " 23  percentCarbs          1722 non-null   float64\n",
            " 24  dishTypes             1722 non-null   object \n",
            " 25  ingredients           1722 non-null   object \n",
            " 26  calories              1722 non-null   float64\n",
            " 27  Fat/g                 1722 non-null   float64\n",
            " 28  Saturated Fat/g       1722 non-null   float64\n",
            " 29  Carbohydrates/g       1722 non-null   float64\n",
            " 30  Sugar/g               1722 non-null   float64\n",
            " 31  Cholesterol/mg        1722 non-null   float64\n",
            " 32  Sodium/mg             1722 non-null   float64\n",
            " 33  Protein/g             1722 non-null   float64\n",
            " 34  Vitamin B3/mg         1722 non-null   float64\n",
            " 35  Selenium/µg           1722 non-null   float64\n",
            " 36  Phosphorus/mg         1722 non-null   float64\n",
            " 37  Iron/mg               1722 non-null   float64\n",
            " 38  Vitamin B2/mg         1722 non-null   float64\n",
            " 39  Calcium/mg            1722 non-null   float64\n",
            " 40  Vitamin B1/mg         1722 non-null   float64\n",
            " 41  Folate/µg             1722 non-null   float64\n",
            " 42  Potassium/mg          1722 non-null   float64\n",
            " 43  Copper/mg             1722 non-null   float64\n",
            " 44  Zinc/mg               1722 non-null   float64\n",
            " 45  Manganese/mg          1722 non-null   float64\n",
            " 46  Magnesium/mg          1722 non-null   float64\n",
            " 47  Vitamin B12/µg        1722 non-null   float64\n",
            " 48  Vitamin B5/mg         1722 non-null   float64\n",
            " 49  Vitamin B6/mg         1722 non-null   float64\n",
            " 50  Vitamin E/mg          1722 non-null   float64\n",
            " 51  Fiber/g               1722 non-null   float64\n",
            " 52  Vitamin A/IU          1722 non-null   float64\n",
            " 53  Vitamin D/µg          1722 non-null   float64\n",
            " 54  Vitamin K/µg          1722 non-null   float64\n",
            " 55  Vitamin C/mg          1722 non-null   float64\n",
            " 56  Alcohol/g             1722 non-null   float64\n",
            " 57  Caffeine/g            1722 non-null   float64\n",
            " 58  stars                 1722 non-null   int64  \n",
            " 59  popularity            1722 non-null   float64\n",
            " 60  userId                1722 non-null   int64  \n",
            " 61  tfdbId                1722 non-null   int64  \n",
            " 62  recipeId              1722 non-null   int64  \n",
            "dtypes: bool(10), float64(37), int64(10), object(6)\n",
            "memory usage: 730.0+ KB\n"
          ]
        }
      ],
      "source": [
        "df.info()"
      ]
    },
    {
      "cell_type": "code",
      "execution_count": 156,
      "metadata": {
        "colab": {
          "base_uri": "https://localhost:8080/",
          "height": 548
        },
        "id": "uxNwJJfjpp2U",
        "outputId": "196e1036-83d7-407a-9716-a39a01c2d44b"
      },
      "outputs": [
        {
          "data": {
            "text/html": [
              "<div>\n",
              "<style scoped>\n",
              "    .dataframe tbody tr th:only-of-type {\n",
              "        vertical-align: middle;\n",
              "    }\n",
              "\n",
              "    .dataframe tbody tr th {\n",
              "        vertical-align: top;\n",
              "    }\n",
              "\n",
              "    .dataframe thead th {\n",
              "        text-align: right;\n",
              "    }\n",
              "</style>\n",
              "<table border=\"1\" class=\"dataframe\">\n",
              "  <thead>\n",
              "    <tr style=\"text-align: right;\">\n",
              "      <th></th>\n",
              "      <th>id</th>\n",
              "      <th>title</th>\n",
              "      <th>pricePerServing</th>\n",
              "      <th>weightPerServing</th>\n",
              "      <th>vegetarian</th>\n",
              "      <th>vegan</th>\n",
              "      <th>glutenFree</th>\n",
              "      <th>dairyFree</th>\n",
              "      <th>sustainable</th>\n",
              "      <th>veryHealthy</th>\n",
              "      <th>...</th>\n",
              "      <th>Vitamin D/µg</th>\n",
              "      <th>Vitamin K/µg</th>\n",
              "      <th>Vitamin C/mg</th>\n",
              "      <th>Alcohol/g</th>\n",
              "      <th>Caffeine/g</th>\n",
              "      <th>stars</th>\n",
              "      <th>popularity</th>\n",
              "      <th>userId</th>\n",
              "      <th>tfdbId</th>\n",
              "      <th>recipeId</th>\n",
              "    </tr>\n",
              "  </thead>\n",
              "  <tbody>\n",
              "    <tr>\n",
              "      <th>0</th>\n",
              "      <td>1</td>\n",
              "      <td>Fried Anchovies with Sage</td>\n",
              "      <td>5.6051</td>\n",
              "      <td>226</td>\n",
              "      <td>False</td>\n",
              "      <td>False</td>\n",
              "      <td>False</td>\n",
              "      <td>True</td>\n",
              "      <td>False</td>\n",
              "      <td>False</td>\n",
              "      <td>...</td>\n",
              "      <td>0.29</td>\n",
              "      <td>0.00</td>\n",
              "      <td>0.00</td>\n",
              "      <td>0.0</td>\n",
              "      <td>0.0</td>\n",
              "      <td>3</td>\n",
              "      <td>150.437577</td>\n",
              "      <td>1</td>\n",
              "      <td>1</td>\n",
              "      <td>1915</td>\n",
              "    </tr>\n",
              "    <tr>\n",
              "      <th>1</th>\n",
              "      <td>2</td>\n",
              "      <td>Anchovies Appetizer With Breadcrumbs &amp; Scallions</td>\n",
              "      <td>0.8206</td>\n",
              "      <td>33</td>\n",
              "      <td>False</td>\n",
              "      <td>False</td>\n",
              "      <td>False</td>\n",
              "      <td>True</td>\n",
              "      <td>False</td>\n",
              "      <td>False</td>\n",
              "      <td>...</td>\n",
              "      <td>0.00</td>\n",
              "      <td>7.18</td>\n",
              "      <td>0.00</td>\n",
              "      <td>0.0</td>\n",
              "      <td>0.0</td>\n",
              "      <td>1</td>\n",
              "      <td>139.082615</td>\n",
              "      <td>1</td>\n",
              "      <td>2</td>\n",
              "      <td>1916</td>\n",
              "    </tr>\n",
              "    <tr>\n",
              "      <th>2</th>\n",
              "      <td>3</td>\n",
              "      <td>Carrots, Cauliflower And Anchovies</td>\n",
              "      <td>4.3800</td>\n",
              "      <td>364</td>\n",
              "      <td>False</td>\n",
              "      <td>False</td>\n",
              "      <td>False</td>\n",
              "      <td>True</td>\n",
              "      <td>False</td>\n",
              "      <td>True</td>\n",
              "      <td>...</td>\n",
              "      <td>0.00</td>\n",
              "      <td>104.27</td>\n",
              "      <td>32.60</td>\n",
              "      <td>0.0</td>\n",
              "      <td>0.0</td>\n",
              "      <td>4</td>\n",
              "      <td>107.376788</td>\n",
              "      <td>1</td>\n",
              "      <td>3</td>\n",
              "      <td>1918</td>\n",
              "    </tr>\n",
              "    <tr>\n",
              "      <th>3</th>\n",
              "      <td>4</td>\n",
              "      <td>Bap Story Stir Fried Anchovies (Myulchi Bokkeum)</td>\n",
              "      <td>8.1122</td>\n",
              "      <td>711</td>\n",
              "      <td>False</td>\n",
              "      <td>False</td>\n",
              "      <td>True</td>\n",
              "      <td>True</td>\n",
              "      <td>False</td>\n",
              "      <td>True</td>\n",
              "      <td>...</td>\n",
              "      <td>6.24</td>\n",
              "      <td>16.02</td>\n",
              "      <td>3.88</td>\n",
              "      <td>0.0</td>\n",
              "      <td>0.0</td>\n",
              "      <td>3</td>\n",
              "      <td>112.312950</td>\n",
              "      <td>1</td>\n",
              "      <td>4</td>\n",
              "      <td>1919</td>\n",
              "    </tr>\n",
              "    <tr>\n",
              "      <th>4</th>\n",
              "      <td>5</td>\n",
              "      <td>Bread, Butter And Anchovies</td>\n",
              "      <td>0.2557</td>\n",
              "      <td>36</td>\n",
              "      <td>False</td>\n",
              "      <td>False</td>\n",
              "      <td>False</td>\n",
              "      <td>False</td>\n",
              "      <td>False</td>\n",
              "      <td>False</td>\n",
              "      <td>...</td>\n",
              "      <td>0.00</td>\n",
              "      <td>2.21</td>\n",
              "      <td>0.00</td>\n",
              "      <td>0.0</td>\n",
              "      <td>0.0</td>\n",
              "      <td>5</td>\n",
              "      <td>43.926995</td>\n",
              "      <td>1</td>\n",
              "      <td>5</td>\n",
              "      <td>1920</td>\n",
              "    </tr>\n",
              "  </tbody>\n",
              "</table>\n",
              "<p>5 rows × 63 columns</p>\n",
              "</div>"
            ],
            "text/plain": [
              "   id                                             title  pricePerServing  \\\n",
              "0   1                         Fried Anchovies with Sage           5.6051   \n",
              "1   2  Anchovies Appetizer With Breadcrumbs & Scallions           0.8206   \n",
              "2   3                Carrots, Cauliflower And Anchovies           4.3800   \n",
              "3   4  Bap Story Stir Fried Anchovies (Myulchi Bokkeum)           8.1122   \n",
              "4   5                       Bread, Butter And Anchovies           0.2557   \n",
              "\n",
              "   weightPerServing  vegetarian  vegan  glutenFree  dairyFree  sustainable  \\\n",
              "0               226       False  False       False       True        False   \n",
              "1                33       False  False       False       True        False   \n",
              "2               364       False  False       False       True        False   \n",
              "3               711       False  False        True       True        False   \n",
              "4                36       False  False       False      False        False   \n",
              "\n",
              "   veryHealthy  ...  Vitamin D/µg Vitamin K/µg  Vitamin C/mg  Alcohol/g  \\\n",
              "0        False  ...          0.29         0.00          0.00        0.0   \n",
              "1        False  ...          0.00         7.18          0.00        0.0   \n",
              "2         True  ...          0.00       104.27         32.60        0.0   \n",
              "3         True  ...          6.24        16.02          3.88        0.0   \n",
              "4        False  ...          0.00         2.21          0.00        0.0   \n",
              "\n",
              "   Caffeine/g  stars  popularity userId  tfdbId  recipeId  \n",
              "0         0.0      3  150.437577      1       1      1915  \n",
              "1         0.0      1  139.082615      1       2      1916  \n",
              "2         0.0      4  107.376788      1       3      1918  \n",
              "3         0.0      3  112.312950      1       4      1919  \n",
              "4         0.0      5   43.926995      1       5      1920  \n",
              "\n",
              "[5 rows x 63 columns]"
            ]
          },
          "execution_count": 156,
          "metadata": {},
          "output_type": "execute_result"
        }
      ],
      "source": [
        "df.head()"
      ]
    },
    {
      "cell_type": "code",
      "execution_count": 157,
      "metadata": {
        "id": "gQYfkroa5oR9"
      },
      "outputs": [],
      "source": [
        "df.drop(labels=['vegetarian','vegan', 'glutenFree', 'dairyFree', 'sustainable'],axis=1, inplace=True)"
      ]
    },
    {
      "cell_type": "code",
      "execution_count": 158,
      "metadata": {
        "id": "YexY225s5x95"
      },
      "outputs": [],
      "source": [
        "df.drop(labels=['weightPerServing','pricePerServing', 'gaps', 'lowFodmap', 'ketogenic'],axis=1, inplace=True)"
      ]
    },
    {
      "cell_type": "code",
      "execution_count": 43,
      "metadata": {
        "id": "AiWnjFHu53uY"
      },
      "outputs": [],
      "source": [
        "df.drop(labels=['whole30','aggregateLikes', 'spoonacularScore', 'Vitamin B5/mg', 'Vitamin B6/mg'],axis=1, inplace=True)"
      ]
    },
    {
      "cell_type": "code",
      "execution_count": 44,
      "metadata": {
        "id": "0Cs_lZUQ6Hsw"
      },
      "outputs": [],
      "source": [
        "df.drop(labels=['healthScore','percentProtein', 'percentFat', 'Magnesium/mg', 'Vitamin B12/µg'],axis=1, inplace=True)"
      ]
    },
    {
      "cell_type": "code",
      "execution_count": 45,
      "metadata": {
        "id": "WLEpWhbv6KCJ"
      },
      "outputs": [],
      "source": [
        "df.drop(labels=['percentCarbs','Zinc/mg', 'Manganese/mg', 'Fiber/g', 'Vitamin E/mg'],axis=1, inplace=True)"
      ]
    },
    {
      "cell_type": "code",
      "execution_count": 46,
      "metadata": {
        "id": "L08SwHQL6MVI"
      },
      "outputs": [],
      "source": [
        "df.drop(labels=['Vitamin B1/mg', 'Folate/µg', 'Potassium/mg', 'Copper/mg','Vitamin A/IU','Vitamin D/µg','Vitamin K/µg'],axis=1, inplace=True)"
      ]
    },
    {
      "cell_type": "code",
      "execution_count": 47,
      "metadata": {
        "id": "1Bk9d15_6Sio"
      },
      "outputs": [],
      "source": [
        "df.drop(labels=['Fat/g','Saturated Fat/g', 'Carbohydrates/g', 'Sugar/g', 'Cholesterol/mg','Sodium/mg','Protein/g','Vitamin B3/mg','Selenium/µg','Phosphorus/mg','Iron/mg','Vitamin B2/mg','Calcium/mg','Vitamin C/mg','Alcohol/g','Caffeine/g'],axis=1, inplace=True)"
      ]
    },
    {
      "cell_type": "code",
      "execution_count": 48,
      "metadata": {
        "colab": {
          "base_uri": "https://localhost:8080/",
          "height": 939
        },
        "id": "dOhHKKw36U4B",
        "outputId": "81f96acc-ab09-4bc5-da78-63520361dee4"
      },
      "outputs": [
        {
          "data": {
            "text/html": [
              "\n",
              "  <div id=\"df-8e17b571-d892-4dfa-bac8-216ed12befff\">\n",
              "    <div class=\"colab-df-container\">\n",
              "      <div>\n",
              "<style scoped>\n",
              "    .dataframe tbody tr th:only-of-type {\n",
              "        vertical-align: middle;\n",
              "    }\n",
              "\n",
              "    .dataframe tbody tr th {\n",
              "        vertical-align: top;\n",
              "    }\n",
              "\n",
              "    .dataframe thead th {\n",
              "        text-align: right;\n",
              "    }\n",
              "</style>\n",
              "<table border=\"1\" class=\"dataframe\">\n",
              "  <thead>\n",
              "    <tr style=\"text-align: right;\">\n",
              "      <th></th>\n",
              "      <th>id</th>\n",
              "      <th>title</th>\n",
              "      <th>veryHealthy</th>\n",
              "      <th>veryPopular</th>\n",
              "      <th>readyInMinutes</th>\n",
              "      <th>spoonacularSourceUrl</th>\n",
              "      <th>image</th>\n",
              "      <th>dishTypes</th>\n",
              "      <th>ingredients</th>\n",
              "      <th>calories</th>\n",
              "      <th>Stars</th>\n",
              "    </tr>\n",
              "  </thead>\n",
              "  <tbody>\n",
              "    <tr>\n",
              "      <th>0</th>\n",
              "      <td>1</td>\n",
              "      <td>Fried Anchovies with Sage</td>\n",
              "      <td>False</td>\n",
              "      <td>False</td>\n",
              "      <td>45</td>\n",
              "      <td>https://spoonacular.com/fried-anchovies-with-s...</td>\n",
              "      <td>https://spoonacular.com/recipeImages/1-556x370...</td>\n",
              "      <td>lunch,main course,main dish,dinner</td>\n",
              "      <td>anchovies,baking powder,egg,flour,sage leaves,...</td>\n",
              "      <td>384.09</td>\n",
              "      <td>3.75</td>\n",
              "    </tr>\n",
              "    <tr>\n",
              "      <th>1</th>\n",
              "      <td>2</td>\n",
              "      <td>Anchovies Appetizer With Breadcrumbs &amp; Scallions</td>\n",
              "      <td>False</td>\n",
              "      <td>False</td>\n",
              "      <td>15</td>\n",
              "      <td>https://spoonacular.com/anchovies-appetizer-wi...</td>\n",
              "      <td>https://spoonacular.com/recipeImages/2-556x370...</td>\n",
              "      <td>antipasti,starter,snack,appetizer,antipasto,ho...</td>\n",
              "      <td>anchovies,bread,garlic clove,olive oil,scallions</td>\n",
              "      <td>57.07</td>\n",
              "      <td>1</td>\n",
              "    </tr>\n",
              "    <tr>\n",
              "      <th>2</th>\n",
              "      <td>3</td>\n",
              "      <td>Carrots, Cauliflower And Anchovies</td>\n",
              "      <td>True</td>\n",
              "      <td>False</td>\n",
              "      <td>45</td>\n",
              "      <td>https://spoonacular.com/carrots-cauliflower-an...</td>\n",
              "      <td>https://spoonacular.com/recipeImages/3-556x370...</td>\n",
              "      <td>lunch,main course,main dish,dinner</td>\n",
              "      <td>acini di pepe,almonds,anchovies,carrots,caulif...</td>\n",
              "      <td>942.08</td>\n",
              "      <td>2.25</td>\n",
              "    </tr>\n",
              "    <tr>\n",
              "      <th>3</th>\n",
              "      <td>4</td>\n",
              "      <td>Bap Story: Stir Fried Anchovies (Myulchi Bokkeum)</td>\n",
              "      <td>True</td>\n",
              "      <td>False</td>\n",
              "      <td>45</td>\n",
              "      <td>https://spoonacular.com/bap-story-stir-fried-a...</td>\n",
              "      <td>https://spoonacular.com/recipeImages/4-556x370...</td>\n",
              "      <td>lunch,main course,main dish,dinner</td>\n",
              "      <td>anchovies,baby-back ribs,cooking oil,frying oi...</td>\n",
              "      <td>1697.23</td>\n",
              "      <td>2.75</td>\n",
              "    </tr>\n",
              "    <tr>\n",
              "      <th>4</th>\n",
              "      <td>5</td>\n",
              "      <td>Bread, Butter And Anchovies</td>\n",
              "      <td>False</td>\n",
              "      <td>False</td>\n",
              "      <td>3</td>\n",
              "      <td>https://spoonacular.com/bread-butter-and-ancho...</td>\n",
              "      <td>https://spoonacular.com/recipeImages/5-556x370...</td>\n",
              "      <td>NaN</td>\n",
              "      <td>bread,capers,salted anchovies,unsalted butter</td>\n",
              "      <td>112.75</td>\n",
              "      <td>3.75</td>\n",
              "    </tr>\n",
              "    <tr>\n",
              "      <th>...</th>\n",
              "      <td>...</td>\n",
              "      <td>...</td>\n",
              "      <td>...</td>\n",
              "      <td>...</td>\n",
              "      <td>...</td>\n",
              "      <td>...</td>\n",
              "      <td>...</td>\n",
              "      <td>...</td>\n",
              "      <td>...</td>\n",
              "      <td>...</td>\n",
              "      <td>...</td>\n",
              "    </tr>\n",
              "    <tr>\n",
              "      <th>1717</th>\n",
              "      <td>1995</td>\n",
              "      <td>Blackened Salmon Fillets</td>\n",
              "      <td>False</td>\n",
              "      <td>False</td>\n",
              "      <td>25</td>\n",
              "      <td>https://spoonacular.com/blackened-salmon-fille...</td>\n",
              "      <td>https://spoonacular.com/recipeImages/1995-556x...</td>\n",
              "      <td>lunch,main course,main dish,dinner</td>\n",
              "      <td>dried basil,dried thyme,ground cayenne pepper,...</td>\n",
              "      <td>466.57</td>\n",
              "      <td>5</td>\n",
              "    </tr>\n",
              "    <tr>\n",
              "      <th>1718</th>\n",
              "      <td>1996</td>\n",
              "      <td>Vegetable Stew With Halibut</td>\n",
              "      <td>False</td>\n",
              "      <td>False</td>\n",
              "      <td>37</td>\n",
              "      <td>https://spoonacular.com/vegetable-stew-with-ha...</td>\n",
              "      <td>https://spoonacular.com/recipeImages/1996-556x...</td>\n",
              "      <td>antipasti,starter,snack,appetizer,antipasto,ho...</td>\n",
              "      <td>cherry tomatoes,chicken broth,fresh corn kerne...</td>\n",
              "      <td>24.02</td>\n",
              "      <td>4.25</td>\n",
              "    </tr>\n",
              "    <tr>\n",
              "      <th>1719</th>\n",
              "      <td>1997</td>\n",
              "      <td>Snapper Tacos with Chipotle Cream</td>\n",
              "      <td>False</td>\n",
              "      <td>False</td>\n",
              "      <td>45</td>\n",
              "      <td>https://spoonacular.com/snapper-tacos-with-chi...</td>\n",
              "      <td>https://spoonacular.com/recipeImages/1997-556x...</td>\n",
              "      <td>lunch,main course,main dish,dinner</td>\n",
              "      <td>butter,chipotle chile in adobo,flour tortillas...</td>\n",
              "      <td>418.20</td>\n",
              "      <td>3.25</td>\n",
              "    </tr>\n",
              "    <tr>\n",
              "      <th>1720</th>\n",
              "      <td>1998</td>\n",
              "      <td>Smoky Maple-glazed Salmon Supper</td>\n",
              "      <td>True</td>\n",
              "      <td>False</td>\n",
              "      <td>45</td>\n",
              "      <td>https://spoonacular.com/smoky-maple-glazed-sal...</td>\n",
              "      <td>https://spoonacular.com/recipeImages/1998-556x...</td>\n",
              "      <td>lunch,main course,main dish,dinner</td>\n",
              "      <td>brown rice,butter,carrots,chives,cider vinegar...</td>\n",
              "      <td>803.88</td>\n",
              "      <td>2.75</td>\n",
              "    </tr>\n",
              "    <tr>\n",
              "      <th>1721</th>\n",
              "      <td>1999</td>\n",
              "      <td>spicy tomato mussels</td>\n",
              "      <td>False</td>\n",
              "      <td>False</td>\n",
              "      <td>45</td>\n",
              "      <td>https://spoonacular.com/spicy-tomato-mussels-1999</td>\n",
              "      <td>NaN</td>\n",
              "      <td>antipasti,starter,snack,appetizer,antipasto,ho...</td>\n",
              "      <td>cherry tomatoes,chillies,coconut,coconut,cocon...</td>\n",
              "      <td>77.49</td>\n",
              "      <td>3.75</td>\n",
              "    </tr>\n",
              "  </tbody>\n",
              "</table>\n",
              "<p>1722 rows × 11 columns</p>\n",
              "</div>\n",
              "      <button class=\"colab-df-convert\" onclick=\"convertToInteractive('df-8e17b571-d892-4dfa-bac8-216ed12befff')\"\n",
              "              title=\"Convert this dataframe to an interactive table.\"\n",
              "              style=\"display:none;\">\n",
              "        \n",
              "  <svg xmlns=\"http://www.w3.org/2000/svg\" height=\"24px\"viewBox=\"0 0 24 24\"\n",
              "       width=\"24px\">\n",
              "    <path d=\"M0 0h24v24H0V0z\" fill=\"none\"/>\n",
              "    <path d=\"M18.56 5.44l.94 2.06.94-2.06 2.06-.94-2.06-.94-.94-2.06-.94 2.06-2.06.94zm-11 1L8.5 8.5l.94-2.06 2.06-.94-2.06-.94L8.5 2.5l-.94 2.06-2.06.94zm10 10l.94 2.06.94-2.06 2.06-.94-2.06-.94-.94-2.06-.94 2.06-2.06.94z\"/><path d=\"M17.41 7.96l-1.37-1.37c-.4-.4-.92-.59-1.43-.59-.52 0-1.04.2-1.43.59L10.3 9.45l-7.72 7.72c-.78.78-.78 2.05 0 2.83L4 21.41c.39.39.9.59 1.41.59.51 0 1.02-.2 1.41-.59l7.78-7.78 2.81-2.81c.8-.78.8-2.07 0-2.86zM5.41 20L4 18.59l7.72-7.72 1.47 1.35L5.41 20z\"/>\n",
              "  </svg>\n",
              "      </button>\n",
              "      \n",
              "  <style>\n",
              "    .colab-df-container {\n",
              "      display:flex;\n",
              "      flex-wrap:wrap;\n",
              "      gap: 12px;\n",
              "    }\n",
              "\n",
              "    .colab-df-convert {\n",
              "      background-color: #E8F0FE;\n",
              "      border: none;\n",
              "      border-radius: 50%;\n",
              "      cursor: pointer;\n",
              "      display: none;\n",
              "      fill: #1967D2;\n",
              "      height: 32px;\n",
              "      padding: 0 0 0 0;\n",
              "      width: 32px;\n",
              "    }\n",
              "\n",
              "    .colab-df-convert:hover {\n",
              "      background-color: #E2EBFA;\n",
              "      box-shadow: 0px 1px 2px rgba(60, 64, 67, 0.3), 0px 1px 3px 1px rgba(60, 64, 67, 0.15);\n",
              "      fill: #174EA6;\n",
              "    }\n",
              "\n",
              "    [theme=dark] .colab-df-convert {\n",
              "      background-color: #3B4455;\n",
              "      fill: #D2E3FC;\n",
              "    }\n",
              "\n",
              "    [theme=dark] .colab-df-convert:hover {\n",
              "      background-color: #434B5C;\n",
              "      box-shadow: 0px 1px 3px 1px rgba(0, 0, 0, 0.15);\n",
              "      filter: drop-shadow(0px 1px 2px rgba(0, 0, 0, 0.3));\n",
              "      fill: #FFFFFF;\n",
              "    }\n",
              "  </style>\n",
              "\n",
              "      <script>\n",
              "        const buttonEl =\n",
              "          document.querySelector('#df-8e17b571-d892-4dfa-bac8-216ed12befff button.colab-df-convert');\n",
              "        buttonEl.style.display =\n",
              "          google.colab.kernel.accessAllowed ? 'block' : 'none';\n",
              "\n",
              "        async function convertToInteractive(key) {\n",
              "          const element = document.querySelector('#df-8e17b571-d892-4dfa-bac8-216ed12befff');\n",
              "          const dataTable =\n",
              "            await google.colab.kernel.invokeFunction('convertToInteractive',\n",
              "                                                     [key], {});\n",
              "          if (!dataTable) return;\n",
              "\n",
              "          const docLinkHtml = 'Like what you see? Visit the ' +\n",
              "            '<a target=\"_blank\" href=https://colab.research.google.com/notebooks/data_table.ipynb>data table notebook</a>'\n",
              "            + ' to learn more about interactive tables.';\n",
              "          element.innerHTML = '';\n",
              "          dataTable['output_type'] = 'display_data';\n",
              "          await google.colab.output.renderOutput(dataTable, element);\n",
              "          const docLink = document.createElement('div');\n",
              "          docLink.innerHTML = docLinkHtml;\n",
              "          element.appendChild(docLink);\n",
              "        }\n",
              "      </script>\n",
              "    </div>\n",
              "  </div>\n",
              "  "
            ],
            "text/plain": [
              "        id                                              title  ...  calories  Stars\n",
              "0        1                          Fried Anchovies with Sage  ...    384.09   3.75\n",
              "1        2   Anchovies Appetizer With Breadcrumbs & Scallions  ...     57.07      1\n",
              "2        3                 Carrots, Cauliflower And Anchovies  ...    942.08   2.25\n",
              "3        4  Bap Story: Stir Fried Anchovies (Myulchi Bokkeum)  ...   1697.23   2.75\n",
              "4        5                        Bread, Butter And Anchovies  ...    112.75   3.75\n",
              "...    ...                                                ...  ...       ...    ...\n",
              "1717  1995                           Blackened Salmon Fillets  ...    466.57      5\n",
              "1718  1996                        Vegetable Stew With Halibut  ...     24.02   4.25\n",
              "1719  1997                  Snapper Tacos with Chipotle Cream  ...    418.20   3.25\n",
              "1720  1998                   Smoky Maple-glazed Salmon Supper  ...    803.88   2.75\n",
              "1721  1999                               spicy tomato mussels  ...     77.49   3.75\n",
              "\n",
              "[1722 rows x 11 columns]"
            ]
          },
          "execution_count": 48,
          "metadata": {},
          "output_type": "execute_result"
        }
      ],
      "source": [
        "df"
      ]
    },
    {
      "cell_type": "code",
      "execution_count": 49,
      "metadata": {
        "id": "_Q_tyras649R"
      },
      "outputs": [],
      "source": [
        "df['Recommend'] = np.nan\n",
        "df['Recommend'] = df['Recommend'].astype('str')"
      ]
    },
    {
      "cell_type": "code",
      "execution_count": 50,
      "metadata": {
        "colab": {
          "base_uri": "https://localhost:8080/",
          "height": 939
        },
        "id": "u4rwOP8dK8GM",
        "outputId": "56b21f50-4249-4467-82de-dd5a7827d18b"
      },
      "outputs": [
        {
          "data": {
            "text/html": [
              "\n",
              "  <div id=\"df-dadeef9d-e500-459c-ac4a-408f5c0334f3\">\n",
              "    <div class=\"colab-df-container\">\n",
              "      <div>\n",
              "<style scoped>\n",
              "    .dataframe tbody tr th:only-of-type {\n",
              "        vertical-align: middle;\n",
              "    }\n",
              "\n",
              "    .dataframe tbody tr th {\n",
              "        vertical-align: top;\n",
              "    }\n",
              "\n",
              "    .dataframe thead th {\n",
              "        text-align: right;\n",
              "    }\n",
              "</style>\n",
              "<table border=\"1\" class=\"dataframe\">\n",
              "  <thead>\n",
              "    <tr style=\"text-align: right;\">\n",
              "      <th></th>\n",
              "      <th>id</th>\n",
              "      <th>title</th>\n",
              "      <th>veryHealthy</th>\n",
              "      <th>veryPopular</th>\n",
              "      <th>readyInMinutes</th>\n",
              "      <th>spoonacularSourceUrl</th>\n",
              "      <th>image</th>\n",
              "      <th>dishTypes</th>\n",
              "      <th>ingredients</th>\n",
              "      <th>calories</th>\n",
              "      <th>Stars</th>\n",
              "      <th>Recommend</th>\n",
              "    </tr>\n",
              "  </thead>\n",
              "  <tbody>\n",
              "    <tr>\n",
              "      <th>0</th>\n",
              "      <td>1</td>\n",
              "      <td>Fried Anchovies with Sage</td>\n",
              "      <td>False</td>\n",
              "      <td>False</td>\n",
              "      <td>45</td>\n",
              "      <td>https://spoonacular.com/fried-anchovies-with-s...</td>\n",
              "      <td>https://spoonacular.com/recipeImages/1-556x370...</td>\n",
              "      <td>lunch,main course,main dish,dinner</td>\n",
              "      <td>anchovies,baking powder,egg,flour,sage leaves,...</td>\n",
              "      <td>384.09</td>\n",
              "      <td>3.75</td>\n",
              "      <td>nan</td>\n",
              "    </tr>\n",
              "    <tr>\n",
              "      <th>1</th>\n",
              "      <td>2</td>\n",
              "      <td>Anchovies Appetizer With Breadcrumbs &amp; Scallions</td>\n",
              "      <td>False</td>\n",
              "      <td>False</td>\n",
              "      <td>15</td>\n",
              "      <td>https://spoonacular.com/anchovies-appetizer-wi...</td>\n",
              "      <td>https://spoonacular.com/recipeImages/2-556x370...</td>\n",
              "      <td>antipasti,starter,snack,appetizer,antipasto,ho...</td>\n",
              "      <td>anchovies,bread,garlic clove,olive oil,scallions</td>\n",
              "      <td>57.07</td>\n",
              "      <td>1</td>\n",
              "      <td>nan</td>\n",
              "    </tr>\n",
              "    <tr>\n",
              "      <th>2</th>\n",
              "      <td>3</td>\n",
              "      <td>Carrots, Cauliflower And Anchovies</td>\n",
              "      <td>True</td>\n",
              "      <td>False</td>\n",
              "      <td>45</td>\n",
              "      <td>https://spoonacular.com/carrots-cauliflower-an...</td>\n",
              "      <td>https://spoonacular.com/recipeImages/3-556x370...</td>\n",
              "      <td>lunch,main course,main dish,dinner</td>\n",
              "      <td>acini di pepe,almonds,anchovies,carrots,caulif...</td>\n",
              "      <td>942.08</td>\n",
              "      <td>2.25</td>\n",
              "      <td>nan</td>\n",
              "    </tr>\n",
              "    <tr>\n",
              "      <th>3</th>\n",
              "      <td>4</td>\n",
              "      <td>Bap Story: Stir Fried Anchovies (Myulchi Bokkeum)</td>\n",
              "      <td>True</td>\n",
              "      <td>False</td>\n",
              "      <td>45</td>\n",
              "      <td>https://spoonacular.com/bap-story-stir-fried-a...</td>\n",
              "      <td>https://spoonacular.com/recipeImages/4-556x370...</td>\n",
              "      <td>lunch,main course,main dish,dinner</td>\n",
              "      <td>anchovies,baby-back ribs,cooking oil,frying oi...</td>\n",
              "      <td>1697.23</td>\n",
              "      <td>2.75</td>\n",
              "      <td>nan</td>\n",
              "    </tr>\n",
              "    <tr>\n",
              "      <th>4</th>\n",
              "      <td>5</td>\n",
              "      <td>Bread, Butter And Anchovies</td>\n",
              "      <td>False</td>\n",
              "      <td>False</td>\n",
              "      <td>3</td>\n",
              "      <td>https://spoonacular.com/bread-butter-and-ancho...</td>\n",
              "      <td>https://spoonacular.com/recipeImages/5-556x370...</td>\n",
              "      <td>NaN</td>\n",
              "      <td>bread,capers,salted anchovies,unsalted butter</td>\n",
              "      <td>112.75</td>\n",
              "      <td>3.75</td>\n",
              "      <td>nan</td>\n",
              "    </tr>\n",
              "    <tr>\n",
              "      <th>...</th>\n",
              "      <td>...</td>\n",
              "      <td>...</td>\n",
              "      <td>...</td>\n",
              "      <td>...</td>\n",
              "      <td>...</td>\n",
              "      <td>...</td>\n",
              "      <td>...</td>\n",
              "      <td>...</td>\n",
              "      <td>...</td>\n",
              "      <td>...</td>\n",
              "      <td>...</td>\n",
              "      <td>...</td>\n",
              "    </tr>\n",
              "    <tr>\n",
              "      <th>1717</th>\n",
              "      <td>1995</td>\n",
              "      <td>Blackened Salmon Fillets</td>\n",
              "      <td>False</td>\n",
              "      <td>False</td>\n",
              "      <td>25</td>\n",
              "      <td>https://spoonacular.com/blackened-salmon-fille...</td>\n",
              "      <td>https://spoonacular.com/recipeImages/1995-556x...</td>\n",
              "      <td>lunch,main course,main dish,dinner</td>\n",
              "      <td>dried basil,dried thyme,ground cayenne pepper,...</td>\n",
              "      <td>466.57</td>\n",
              "      <td>5</td>\n",
              "      <td>nan</td>\n",
              "    </tr>\n",
              "    <tr>\n",
              "      <th>1718</th>\n",
              "      <td>1996</td>\n",
              "      <td>Vegetable Stew With Halibut</td>\n",
              "      <td>False</td>\n",
              "      <td>False</td>\n",
              "      <td>37</td>\n",
              "      <td>https://spoonacular.com/vegetable-stew-with-ha...</td>\n",
              "      <td>https://spoonacular.com/recipeImages/1996-556x...</td>\n",
              "      <td>antipasti,starter,snack,appetizer,antipasto,ho...</td>\n",
              "      <td>cherry tomatoes,chicken broth,fresh corn kerne...</td>\n",
              "      <td>24.02</td>\n",
              "      <td>4.25</td>\n",
              "      <td>nan</td>\n",
              "    </tr>\n",
              "    <tr>\n",
              "      <th>1719</th>\n",
              "      <td>1997</td>\n",
              "      <td>Snapper Tacos with Chipotle Cream</td>\n",
              "      <td>False</td>\n",
              "      <td>False</td>\n",
              "      <td>45</td>\n",
              "      <td>https://spoonacular.com/snapper-tacos-with-chi...</td>\n",
              "      <td>https://spoonacular.com/recipeImages/1997-556x...</td>\n",
              "      <td>lunch,main course,main dish,dinner</td>\n",
              "      <td>butter,chipotle chile in adobo,flour tortillas...</td>\n",
              "      <td>418.20</td>\n",
              "      <td>3.25</td>\n",
              "      <td>nan</td>\n",
              "    </tr>\n",
              "    <tr>\n",
              "      <th>1720</th>\n",
              "      <td>1998</td>\n",
              "      <td>Smoky Maple-glazed Salmon Supper</td>\n",
              "      <td>True</td>\n",
              "      <td>False</td>\n",
              "      <td>45</td>\n",
              "      <td>https://spoonacular.com/smoky-maple-glazed-sal...</td>\n",
              "      <td>https://spoonacular.com/recipeImages/1998-556x...</td>\n",
              "      <td>lunch,main course,main dish,dinner</td>\n",
              "      <td>brown rice,butter,carrots,chives,cider vinegar...</td>\n",
              "      <td>803.88</td>\n",
              "      <td>2.75</td>\n",
              "      <td>nan</td>\n",
              "    </tr>\n",
              "    <tr>\n",
              "      <th>1721</th>\n",
              "      <td>1999</td>\n",
              "      <td>spicy tomato mussels</td>\n",
              "      <td>False</td>\n",
              "      <td>False</td>\n",
              "      <td>45</td>\n",
              "      <td>https://spoonacular.com/spicy-tomato-mussels-1999</td>\n",
              "      <td>NaN</td>\n",
              "      <td>antipasti,starter,snack,appetizer,antipasto,ho...</td>\n",
              "      <td>cherry tomatoes,chillies,coconut,coconut,cocon...</td>\n",
              "      <td>77.49</td>\n",
              "      <td>3.75</td>\n",
              "      <td>nan</td>\n",
              "    </tr>\n",
              "  </tbody>\n",
              "</table>\n",
              "<p>1722 rows × 12 columns</p>\n",
              "</div>\n",
              "      <button class=\"colab-df-convert\" onclick=\"convertToInteractive('df-dadeef9d-e500-459c-ac4a-408f5c0334f3')\"\n",
              "              title=\"Convert this dataframe to an interactive table.\"\n",
              "              style=\"display:none;\">\n",
              "        \n",
              "  <svg xmlns=\"http://www.w3.org/2000/svg\" height=\"24px\"viewBox=\"0 0 24 24\"\n",
              "       width=\"24px\">\n",
              "    <path d=\"M0 0h24v24H0V0z\" fill=\"none\"/>\n",
              "    <path d=\"M18.56 5.44l.94 2.06.94-2.06 2.06-.94-2.06-.94-.94-2.06-.94 2.06-2.06.94zm-11 1L8.5 8.5l.94-2.06 2.06-.94-2.06-.94L8.5 2.5l-.94 2.06-2.06.94zm10 10l.94 2.06.94-2.06 2.06-.94-2.06-.94-.94-2.06-.94 2.06-2.06.94z\"/><path d=\"M17.41 7.96l-1.37-1.37c-.4-.4-.92-.59-1.43-.59-.52 0-1.04.2-1.43.59L10.3 9.45l-7.72 7.72c-.78.78-.78 2.05 0 2.83L4 21.41c.39.39.9.59 1.41.59.51 0 1.02-.2 1.41-.59l7.78-7.78 2.81-2.81c.8-.78.8-2.07 0-2.86zM5.41 20L4 18.59l7.72-7.72 1.47 1.35L5.41 20z\"/>\n",
              "  </svg>\n",
              "      </button>\n",
              "      \n",
              "  <style>\n",
              "    .colab-df-container {\n",
              "      display:flex;\n",
              "      flex-wrap:wrap;\n",
              "      gap: 12px;\n",
              "    }\n",
              "\n",
              "    .colab-df-convert {\n",
              "      background-color: #E8F0FE;\n",
              "      border: none;\n",
              "      border-radius: 50%;\n",
              "      cursor: pointer;\n",
              "      display: none;\n",
              "      fill: #1967D2;\n",
              "      height: 32px;\n",
              "      padding: 0 0 0 0;\n",
              "      width: 32px;\n",
              "    }\n",
              "\n",
              "    .colab-df-convert:hover {\n",
              "      background-color: #E2EBFA;\n",
              "      box-shadow: 0px 1px 2px rgba(60, 64, 67, 0.3), 0px 1px 3px 1px rgba(60, 64, 67, 0.15);\n",
              "      fill: #174EA6;\n",
              "    }\n",
              "\n",
              "    [theme=dark] .colab-df-convert {\n",
              "      background-color: #3B4455;\n",
              "      fill: #D2E3FC;\n",
              "    }\n",
              "\n",
              "    [theme=dark] .colab-df-convert:hover {\n",
              "      background-color: #434B5C;\n",
              "      box-shadow: 0px 1px 3px 1px rgba(0, 0, 0, 0.15);\n",
              "      filter: drop-shadow(0px 1px 2px rgba(0, 0, 0, 0.3));\n",
              "      fill: #FFFFFF;\n",
              "    }\n",
              "  </style>\n",
              "\n",
              "      <script>\n",
              "        const buttonEl =\n",
              "          document.querySelector('#df-dadeef9d-e500-459c-ac4a-408f5c0334f3 button.colab-df-convert');\n",
              "        buttonEl.style.display =\n",
              "          google.colab.kernel.accessAllowed ? 'block' : 'none';\n",
              "\n",
              "        async function convertToInteractive(key) {\n",
              "          const element = document.querySelector('#df-dadeef9d-e500-459c-ac4a-408f5c0334f3');\n",
              "          const dataTable =\n",
              "            await google.colab.kernel.invokeFunction('convertToInteractive',\n",
              "                                                     [key], {});\n",
              "          if (!dataTable) return;\n",
              "\n",
              "          const docLinkHtml = 'Like what you see? Visit the ' +\n",
              "            '<a target=\"_blank\" href=https://colab.research.google.com/notebooks/data_table.ipynb>data table notebook</a>'\n",
              "            + ' to learn more about interactive tables.';\n",
              "          element.innerHTML = '';\n",
              "          dataTable['output_type'] = 'display_data';\n",
              "          await google.colab.output.renderOutput(dataTable, element);\n",
              "          const docLink = document.createElement('div');\n",
              "          docLink.innerHTML = docLinkHtml;\n",
              "          element.appendChild(docLink);\n",
              "        }\n",
              "      </script>\n",
              "    </div>\n",
              "  </div>\n",
              "  "
            ],
            "text/plain": [
              "        id                                              title  ...  Stars  Recommend\n",
              "0        1                          Fried Anchovies with Sage  ...   3.75        nan\n",
              "1        2   Anchovies Appetizer With Breadcrumbs & Scallions  ...      1        nan\n",
              "2        3                 Carrots, Cauliflower And Anchovies  ...   2.25        nan\n",
              "3        4  Bap Story: Stir Fried Anchovies (Myulchi Bokkeum)  ...   2.75        nan\n",
              "4        5                        Bread, Butter And Anchovies  ...   3.75        nan\n",
              "...    ...                                                ...  ...    ...        ...\n",
              "1717  1995                           Blackened Salmon Fillets  ...      5        nan\n",
              "1718  1996                        Vegetable Stew With Halibut  ...   4.25        nan\n",
              "1719  1997                  Snapper Tacos with Chipotle Cream  ...   3.25        nan\n",
              "1720  1998                   Smoky Maple-glazed Salmon Supper  ...   2.75        nan\n",
              "1721  1999                               spicy tomato mussels  ...   3.75        nan\n",
              "\n",
              "[1722 rows x 12 columns]"
            ]
          },
          "execution_count": 50,
          "metadata": {},
          "output_type": "execute_result"
        }
      ],
      "source": [
        "df"
      ]
    },
    {
      "cell_type": "code",
      "execution_count": 51,
      "metadata": {
        "colab": {
          "base_uri": "https://localhost:8080/"
        },
        "id": "U3JuW1OqPicm",
        "outputId": "38a1887c-d74b-4d37-e469-930fe95bb88a"
      },
      "outputs": [
        {
          "name": "stdout",
          "output_type": "stream",
          "text": [
            "<class 'pandas.core.frame.DataFrame'>\n",
            "RangeIndex: 1722 entries, 0 to 1721\n",
            "Data columns (total 12 columns):\n",
            " #   Column                Non-Null Count  Dtype  \n",
            "---  ------                --------------  -----  \n",
            " 0   id                    1722 non-null   int64  \n",
            " 1   title                 1722 non-null   object \n",
            " 2   veryHealthy           1722 non-null   bool   \n",
            " 3   veryPopular           1722 non-null   bool   \n",
            " 4   readyInMinutes        1722 non-null   int64  \n",
            " 5   spoonacularSourceUrl  1722 non-null   object \n",
            " 6   image                 1717 non-null   object \n",
            " 7   dishTypes             1644 non-null   object \n",
            " 8   ingredients           1722 non-null   object \n",
            " 9   calories              1722 non-null   float64\n",
            " 10  Stars                 1722 non-null   object \n",
            " 11  Recommend             1722 non-null   object \n",
            "dtypes: bool(2), float64(1), int64(2), object(7)\n",
            "memory usage: 138.0+ KB\n"
          ]
        }
      ],
      "source": [
        "df.info()\n"
      ]
    },
    {
      "cell_type": "code",
      "execution_count": 52,
      "metadata": {
        "id": "DafmJnwfRqY_"
      },
      "outputs": [],
      "source": [
        "df[\"Stars\"] = df[\"Stars\"].astype(\"int64\", errors='ignore')"
      ]
    },
    {
      "cell_type": "code",
      "execution_count": 53,
      "metadata": {
        "colab": {
          "base_uri": "https://localhost:8080/"
        },
        "id": "qPQCcB-8G5Jj",
        "outputId": "d343bf28-ea84-492f-b3ce-b390bbd4de84"
      },
      "outputs": [
        {
          "name": "stdout",
          "output_type": "stream",
          "text": [
            "<class 'pandas.core.frame.DataFrame'>\n",
            "RangeIndex: 1722 entries, 0 to 1721\n",
            "Data columns (total 12 columns):\n",
            " #   Column                Non-Null Count  Dtype  \n",
            "---  ------                --------------  -----  \n",
            " 0   id                    1722 non-null   int64  \n",
            " 1   title                 1722 non-null   object \n",
            " 2   veryHealthy           1722 non-null   bool   \n",
            " 3   veryPopular           1722 non-null   bool   \n",
            " 4   readyInMinutes        1722 non-null   int64  \n",
            " 5   spoonacularSourceUrl  1722 non-null   object \n",
            " 6   image                 1717 non-null   object \n",
            " 7   dishTypes             1644 non-null   object \n",
            " 8   ingredients           1722 non-null   object \n",
            " 9   calories              1722 non-null   float64\n",
            " 10  Stars                 1722 non-null   object \n",
            " 11  Recommend             1722 non-null   object \n",
            "dtypes: bool(2), float64(1), int64(2), object(7)\n",
            "memory usage: 138.0+ KB\n"
          ]
        }
      ],
      "source": [
        "df.info()"
      ]
    },
    {
      "cell_type": "code",
      "execution_count": 54,
      "metadata": {
        "colab": {
          "base_uri": "https://localhost:8080/"
        },
        "id": "ZIITYsV7JTuz",
        "outputId": "ce877890-8c6d-40a1-b5d9-83188efcd726"
      },
      "outputs": [
        {
          "name": "stderr",
          "output_type": "stream",
          "text": [
            "/usr/local/lib/python3.7/dist-packages/ipykernel_launcher.py:3: SettingWithCopyWarning: \n",
            "A value is trying to be set on a copy of a slice from a DataFrame\n",
            "\n",
            "See the caveats in the documentation: https://pandas.pydata.org/pandas-docs/stable/user_guide/indexing.html#returning-a-view-versus-a-copy\n",
            "  This is separate from the ipykernel package so we can avoid doing imports until\n",
            "/usr/local/lib/python3.7/dist-packages/ipykernel_launcher.py:5: SettingWithCopyWarning: \n",
            "A value is trying to be set on a copy of a slice from a DataFrame\n",
            "\n",
            "See the caveats in the documentation: https://pandas.pydata.org/pandas-docs/stable/user_guide/indexing.html#returning-a-view-versus-a-copy\n",
            "  \"\"\"\n"
          ]
        }
      ],
      "source": [
        "for i in df['veryHealthy'].index: \n",
        "  if(False==df['veryHealthy'][i] ): \n",
        "    df['Recommend'][i]='No' \n",
        "  elif(True==df['veryHealthy'][i] ): \n",
        "    df['Recommend'][i]='Yes'"
      ]
    },
    {
      "cell_type": "code",
      "execution_count": 55,
      "metadata": {
        "colab": {
          "base_uri": "https://localhost:8080/",
          "height": 939
        },
        "id": "vAGjjkAVJj-d",
        "outputId": "ab4ac038-5fc8-4be4-e310-f9794d99a172"
      },
      "outputs": [
        {
          "data": {
            "text/html": [
              "\n",
              "  <div id=\"df-62088dff-bdd0-425e-b666-3563711e1532\">\n",
              "    <div class=\"colab-df-container\">\n",
              "      <div>\n",
              "<style scoped>\n",
              "    .dataframe tbody tr th:only-of-type {\n",
              "        vertical-align: middle;\n",
              "    }\n",
              "\n",
              "    .dataframe tbody tr th {\n",
              "        vertical-align: top;\n",
              "    }\n",
              "\n",
              "    .dataframe thead th {\n",
              "        text-align: right;\n",
              "    }\n",
              "</style>\n",
              "<table border=\"1\" class=\"dataframe\">\n",
              "  <thead>\n",
              "    <tr style=\"text-align: right;\">\n",
              "      <th></th>\n",
              "      <th>id</th>\n",
              "      <th>title</th>\n",
              "      <th>veryHealthy</th>\n",
              "      <th>veryPopular</th>\n",
              "      <th>readyInMinutes</th>\n",
              "      <th>spoonacularSourceUrl</th>\n",
              "      <th>image</th>\n",
              "      <th>dishTypes</th>\n",
              "      <th>ingredients</th>\n",
              "      <th>calories</th>\n",
              "      <th>Stars</th>\n",
              "      <th>Recommend</th>\n",
              "    </tr>\n",
              "  </thead>\n",
              "  <tbody>\n",
              "    <tr>\n",
              "      <th>0</th>\n",
              "      <td>1</td>\n",
              "      <td>Fried Anchovies with Sage</td>\n",
              "      <td>False</td>\n",
              "      <td>False</td>\n",
              "      <td>45</td>\n",
              "      <td>https://spoonacular.com/fried-anchovies-with-s...</td>\n",
              "      <td>https://spoonacular.com/recipeImages/1-556x370...</td>\n",
              "      <td>lunch,main course,main dish,dinner</td>\n",
              "      <td>anchovies,baking powder,egg,flour,sage leaves,...</td>\n",
              "      <td>384.09</td>\n",
              "      <td>3.75</td>\n",
              "      <td>No</td>\n",
              "    </tr>\n",
              "    <tr>\n",
              "      <th>1</th>\n",
              "      <td>2</td>\n",
              "      <td>Anchovies Appetizer With Breadcrumbs &amp; Scallions</td>\n",
              "      <td>False</td>\n",
              "      <td>False</td>\n",
              "      <td>15</td>\n",
              "      <td>https://spoonacular.com/anchovies-appetizer-wi...</td>\n",
              "      <td>https://spoonacular.com/recipeImages/2-556x370...</td>\n",
              "      <td>antipasti,starter,snack,appetizer,antipasto,ho...</td>\n",
              "      <td>anchovies,bread,garlic clove,olive oil,scallions</td>\n",
              "      <td>57.07</td>\n",
              "      <td>1</td>\n",
              "      <td>No</td>\n",
              "    </tr>\n",
              "    <tr>\n",
              "      <th>2</th>\n",
              "      <td>3</td>\n",
              "      <td>Carrots, Cauliflower And Anchovies</td>\n",
              "      <td>True</td>\n",
              "      <td>False</td>\n",
              "      <td>45</td>\n",
              "      <td>https://spoonacular.com/carrots-cauliflower-an...</td>\n",
              "      <td>https://spoonacular.com/recipeImages/3-556x370...</td>\n",
              "      <td>lunch,main course,main dish,dinner</td>\n",
              "      <td>acini di pepe,almonds,anchovies,carrots,caulif...</td>\n",
              "      <td>942.08</td>\n",
              "      <td>2.25</td>\n",
              "      <td>Yes</td>\n",
              "    </tr>\n",
              "    <tr>\n",
              "      <th>3</th>\n",
              "      <td>4</td>\n",
              "      <td>Bap Story: Stir Fried Anchovies (Myulchi Bokkeum)</td>\n",
              "      <td>True</td>\n",
              "      <td>False</td>\n",
              "      <td>45</td>\n",
              "      <td>https://spoonacular.com/bap-story-stir-fried-a...</td>\n",
              "      <td>https://spoonacular.com/recipeImages/4-556x370...</td>\n",
              "      <td>lunch,main course,main dish,dinner</td>\n",
              "      <td>anchovies,baby-back ribs,cooking oil,frying oi...</td>\n",
              "      <td>1697.23</td>\n",
              "      <td>2.75</td>\n",
              "      <td>Yes</td>\n",
              "    </tr>\n",
              "    <tr>\n",
              "      <th>4</th>\n",
              "      <td>5</td>\n",
              "      <td>Bread, Butter And Anchovies</td>\n",
              "      <td>False</td>\n",
              "      <td>False</td>\n",
              "      <td>3</td>\n",
              "      <td>https://spoonacular.com/bread-butter-and-ancho...</td>\n",
              "      <td>https://spoonacular.com/recipeImages/5-556x370...</td>\n",
              "      <td>NaN</td>\n",
              "      <td>bread,capers,salted anchovies,unsalted butter</td>\n",
              "      <td>112.75</td>\n",
              "      <td>3.75</td>\n",
              "      <td>No</td>\n",
              "    </tr>\n",
              "    <tr>\n",
              "      <th>...</th>\n",
              "      <td>...</td>\n",
              "      <td>...</td>\n",
              "      <td>...</td>\n",
              "      <td>...</td>\n",
              "      <td>...</td>\n",
              "      <td>...</td>\n",
              "      <td>...</td>\n",
              "      <td>...</td>\n",
              "      <td>...</td>\n",
              "      <td>...</td>\n",
              "      <td>...</td>\n",
              "      <td>...</td>\n",
              "    </tr>\n",
              "    <tr>\n",
              "      <th>1717</th>\n",
              "      <td>1995</td>\n",
              "      <td>Blackened Salmon Fillets</td>\n",
              "      <td>False</td>\n",
              "      <td>False</td>\n",
              "      <td>25</td>\n",
              "      <td>https://spoonacular.com/blackened-salmon-fille...</td>\n",
              "      <td>https://spoonacular.com/recipeImages/1995-556x...</td>\n",
              "      <td>lunch,main course,main dish,dinner</td>\n",
              "      <td>dried basil,dried thyme,ground cayenne pepper,...</td>\n",
              "      <td>466.57</td>\n",
              "      <td>5</td>\n",
              "      <td>No</td>\n",
              "    </tr>\n",
              "    <tr>\n",
              "      <th>1718</th>\n",
              "      <td>1996</td>\n",
              "      <td>Vegetable Stew With Halibut</td>\n",
              "      <td>False</td>\n",
              "      <td>False</td>\n",
              "      <td>37</td>\n",
              "      <td>https://spoonacular.com/vegetable-stew-with-ha...</td>\n",
              "      <td>https://spoonacular.com/recipeImages/1996-556x...</td>\n",
              "      <td>antipasti,starter,snack,appetizer,antipasto,ho...</td>\n",
              "      <td>cherry tomatoes,chicken broth,fresh corn kerne...</td>\n",
              "      <td>24.02</td>\n",
              "      <td>4.25</td>\n",
              "      <td>No</td>\n",
              "    </tr>\n",
              "    <tr>\n",
              "      <th>1719</th>\n",
              "      <td>1997</td>\n",
              "      <td>Snapper Tacos with Chipotle Cream</td>\n",
              "      <td>False</td>\n",
              "      <td>False</td>\n",
              "      <td>45</td>\n",
              "      <td>https://spoonacular.com/snapper-tacos-with-chi...</td>\n",
              "      <td>https://spoonacular.com/recipeImages/1997-556x...</td>\n",
              "      <td>lunch,main course,main dish,dinner</td>\n",
              "      <td>butter,chipotle chile in adobo,flour tortillas...</td>\n",
              "      <td>418.20</td>\n",
              "      <td>3.25</td>\n",
              "      <td>No</td>\n",
              "    </tr>\n",
              "    <tr>\n",
              "      <th>1720</th>\n",
              "      <td>1998</td>\n",
              "      <td>Smoky Maple-glazed Salmon Supper</td>\n",
              "      <td>True</td>\n",
              "      <td>False</td>\n",
              "      <td>45</td>\n",
              "      <td>https://spoonacular.com/smoky-maple-glazed-sal...</td>\n",
              "      <td>https://spoonacular.com/recipeImages/1998-556x...</td>\n",
              "      <td>lunch,main course,main dish,dinner</td>\n",
              "      <td>brown rice,butter,carrots,chives,cider vinegar...</td>\n",
              "      <td>803.88</td>\n",
              "      <td>2.75</td>\n",
              "      <td>Yes</td>\n",
              "    </tr>\n",
              "    <tr>\n",
              "      <th>1721</th>\n",
              "      <td>1999</td>\n",
              "      <td>spicy tomato mussels</td>\n",
              "      <td>False</td>\n",
              "      <td>False</td>\n",
              "      <td>45</td>\n",
              "      <td>https://spoonacular.com/spicy-tomato-mussels-1999</td>\n",
              "      <td>NaN</td>\n",
              "      <td>antipasti,starter,snack,appetizer,antipasto,ho...</td>\n",
              "      <td>cherry tomatoes,chillies,coconut,coconut,cocon...</td>\n",
              "      <td>77.49</td>\n",
              "      <td>3.75</td>\n",
              "      <td>No</td>\n",
              "    </tr>\n",
              "  </tbody>\n",
              "</table>\n",
              "<p>1722 rows × 12 columns</p>\n",
              "</div>\n",
              "      <button class=\"colab-df-convert\" onclick=\"convertToInteractive('df-62088dff-bdd0-425e-b666-3563711e1532')\"\n",
              "              title=\"Convert this dataframe to an interactive table.\"\n",
              "              style=\"display:none;\">\n",
              "        \n",
              "  <svg xmlns=\"http://www.w3.org/2000/svg\" height=\"24px\"viewBox=\"0 0 24 24\"\n",
              "       width=\"24px\">\n",
              "    <path d=\"M0 0h24v24H0V0z\" fill=\"none\"/>\n",
              "    <path d=\"M18.56 5.44l.94 2.06.94-2.06 2.06-.94-2.06-.94-.94-2.06-.94 2.06-2.06.94zm-11 1L8.5 8.5l.94-2.06 2.06-.94-2.06-.94L8.5 2.5l-.94 2.06-2.06.94zm10 10l.94 2.06.94-2.06 2.06-.94-2.06-.94-.94-2.06-.94 2.06-2.06.94z\"/><path d=\"M17.41 7.96l-1.37-1.37c-.4-.4-.92-.59-1.43-.59-.52 0-1.04.2-1.43.59L10.3 9.45l-7.72 7.72c-.78.78-.78 2.05 0 2.83L4 21.41c.39.39.9.59 1.41.59.51 0 1.02-.2 1.41-.59l7.78-7.78 2.81-2.81c.8-.78.8-2.07 0-2.86zM5.41 20L4 18.59l7.72-7.72 1.47 1.35L5.41 20z\"/>\n",
              "  </svg>\n",
              "      </button>\n",
              "      \n",
              "  <style>\n",
              "    .colab-df-container {\n",
              "      display:flex;\n",
              "      flex-wrap:wrap;\n",
              "      gap: 12px;\n",
              "    }\n",
              "\n",
              "    .colab-df-convert {\n",
              "      background-color: #E8F0FE;\n",
              "      border: none;\n",
              "      border-radius: 50%;\n",
              "      cursor: pointer;\n",
              "      display: none;\n",
              "      fill: #1967D2;\n",
              "      height: 32px;\n",
              "      padding: 0 0 0 0;\n",
              "      width: 32px;\n",
              "    }\n",
              "\n",
              "    .colab-df-convert:hover {\n",
              "      background-color: #E2EBFA;\n",
              "      box-shadow: 0px 1px 2px rgba(60, 64, 67, 0.3), 0px 1px 3px 1px rgba(60, 64, 67, 0.15);\n",
              "      fill: #174EA6;\n",
              "    }\n",
              "\n",
              "    [theme=dark] .colab-df-convert {\n",
              "      background-color: #3B4455;\n",
              "      fill: #D2E3FC;\n",
              "    }\n",
              "\n",
              "    [theme=dark] .colab-df-convert:hover {\n",
              "      background-color: #434B5C;\n",
              "      box-shadow: 0px 1px 3px 1px rgba(0, 0, 0, 0.15);\n",
              "      filter: drop-shadow(0px 1px 2px rgba(0, 0, 0, 0.3));\n",
              "      fill: #FFFFFF;\n",
              "    }\n",
              "  </style>\n",
              "\n",
              "      <script>\n",
              "        const buttonEl =\n",
              "          document.querySelector('#df-62088dff-bdd0-425e-b666-3563711e1532 button.colab-df-convert');\n",
              "        buttonEl.style.display =\n",
              "          google.colab.kernel.accessAllowed ? 'block' : 'none';\n",
              "\n",
              "        async function convertToInteractive(key) {\n",
              "          const element = document.querySelector('#df-62088dff-bdd0-425e-b666-3563711e1532');\n",
              "          const dataTable =\n",
              "            await google.colab.kernel.invokeFunction('convertToInteractive',\n",
              "                                                     [key], {});\n",
              "          if (!dataTable) return;\n",
              "\n",
              "          const docLinkHtml = 'Like what you see? Visit the ' +\n",
              "            '<a target=\"_blank\" href=https://colab.research.google.com/notebooks/data_table.ipynb>data table notebook</a>'\n",
              "            + ' to learn more about interactive tables.';\n",
              "          element.innerHTML = '';\n",
              "          dataTable['output_type'] = 'display_data';\n",
              "          await google.colab.output.renderOutput(dataTable, element);\n",
              "          const docLink = document.createElement('div');\n",
              "          docLink.innerHTML = docLinkHtml;\n",
              "          element.appendChild(docLink);\n",
              "        }\n",
              "      </script>\n",
              "    </div>\n",
              "  </div>\n",
              "  "
            ],
            "text/plain": [
              "        id                                              title  ...  Stars  Recommend\n",
              "0        1                          Fried Anchovies with Sage  ...   3.75         No\n",
              "1        2   Anchovies Appetizer With Breadcrumbs & Scallions  ...      1         No\n",
              "2        3                 Carrots, Cauliflower And Anchovies  ...   2.25        Yes\n",
              "3        4  Bap Story: Stir Fried Anchovies (Myulchi Bokkeum)  ...   2.75        Yes\n",
              "4        5                        Bread, Butter And Anchovies  ...   3.75         No\n",
              "...    ...                                                ...  ...    ...        ...\n",
              "1717  1995                           Blackened Salmon Fillets  ...      5         No\n",
              "1718  1996                        Vegetable Stew With Halibut  ...   4.25         No\n",
              "1719  1997                  Snapper Tacos with Chipotle Cream  ...   3.25         No\n",
              "1720  1998                   Smoky Maple-glazed Salmon Supper  ...   2.75        Yes\n",
              "1721  1999                               spicy tomato mussels  ...   3.75         No\n",
              "\n",
              "[1722 rows x 12 columns]"
            ]
          },
          "execution_count": 55,
          "metadata": {},
          "output_type": "execute_result"
        }
      ],
      "source": [
        "df\n"
      ]
    },
    {
      "cell_type": "code",
      "execution_count": 56,
      "metadata": {
        "colab": {
          "base_uri": "https://localhost:8080/"
        },
        "id": "X273aQq4ZnLF",
        "outputId": "18e99c8f-9a80-4bf0-aa0d-fabaee26c194"
      },
      "outputs": [
        {
          "data": {
            "text/plain": [
              "dtype('O')"
            ]
          },
          "execution_count": 56,
          "metadata": {},
          "output_type": "execute_result"
        }
      ],
      "source": [
        "df['Stars'].dtype"
      ]
    },
    {
      "cell_type": "code",
      "execution_count": 57,
      "metadata": {
        "colab": {
          "base_uri": "https://localhost:8080/"
        },
        "id": "e7huiwg7cdLH",
        "outputId": "b6011a62-8ccb-4727-beb1-40d0025a1e8f"
      },
      "outputs": [
        {
          "data": {
            "text/plain": [
              "dtype('float64')"
            ]
          },
          "execution_count": 57,
          "metadata": {},
          "output_type": "execute_result"
        }
      ],
      "source": [
        "df['calories'].dtype"
      ]
    },
    {
      "cell_type": "code",
      "execution_count": 58,
      "metadata": {
        "id": "w79Y_XEXcr94"
      },
      "outputs": [],
      "source": [
        "df['Stars'] = pd.to_numeric(df['Stars'],errors = 'coerce')"
      ]
    },
    {
      "cell_type": "code",
      "execution_count": 59,
      "metadata": {
        "colab": {
          "base_uri": "https://localhost:8080/"
        },
        "id": "DCBQgv8LdDQs",
        "outputId": "1b930c3a-b293-41e1-c0c3-c66ae400a547"
      },
      "outputs": [
        {
          "data": {
            "text/plain": [
              "dtype('float64')"
            ]
          },
          "execution_count": 59,
          "metadata": {},
          "output_type": "execute_result"
        }
      ],
      "source": [
        "df['Stars'].dtype"
      ]
    },
    {
      "cell_type": "code",
      "execution_count": 60,
      "metadata": {
        "colab": {
          "base_uri": "https://localhost:8080/"
        },
        "id": "G4ZeKW-3BeK4",
        "outputId": "955c1d26-dcde-4e45-bbc7-0121672c1846"
      },
      "outputs": [
        {
          "name": "stdout",
          "output_type": "stream",
          "text": [
            "      calories  Stars\n",
            "0       384.09   3.75\n",
            "1        57.07   1.00\n",
            "2       942.08   2.25\n",
            "3      1697.23   2.75\n",
            "4       112.75   3.75\n",
            "...        ...    ...\n",
            "1717    466.57   5.00\n",
            "1718     24.02   4.25\n",
            "1719    418.20   3.25\n",
            "1720    803.88   2.75\n",
            "1721     77.49   3.75\n",
            "\n",
            "[1722 rows x 2 columns]\n"
          ]
        }
      ],
      "source": [
        "print(df.iloc[:, [9, 10]])"
      ]
    },
    {
      "cell_type": "code",
      "execution_count": 61,
      "metadata": {
        "id": "ylYjFl89DU9U"
      },
      "outputs": [],
      "source": [
        "df['Stars'] = df['Stars'].replace(np.nan, 0)"
      ]
    },
    {
      "cell_type": "code",
      "execution_count": 62,
      "metadata": {
        "id": "MhTY2oIbD_-z"
      },
      "outputs": [],
      "source": [
        "df['calories'] = df['calories'].replace(np.nan, 0)"
      ]
    },
    {
      "cell_type": "code",
      "execution_count": 63,
      "metadata": {
        "id": "SppMj3MIEKgf"
      },
      "outputs": [],
      "source": [
        "df['Recommend'] = df['Recommend'].replace(np.nan, 0)"
      ]
    },
    {
      "cell_type": "code",
      "execution_count": 64,
      "metadata": {
        "id": "_g0clS7ZEPlI"
      },
      "outputs": [],
      "source": [
        "x = df.iloc[:, [9, 10]].values  \n",
        "y = df.iloc[:, 11].values "
      ]
    },
    {
      "cell_type": "code",
      "execution_count": 65,
      "metadata": {
        "id": "MYHe7vIYEj4c"
      },
      "outputs": [],
      "source": [
        "from sklearn.model_selection import train_test_split  \n",
        "x_train, x_test, y_train, y_test = train_test_split(x, y, test_size = 0.25, random_state = 5)\n"
      ]
    },
    {
      "cell_type": "code",
      "execution_count": 66,
      "metadata": {
        "id": "8KcdYryWEoHT"
      },
      "outputs": [],
      "source": [
        "from sklearn.preprocessing import StandardScaler  \n",
        "sc = StandardScaler()  \n",
        "x_train = sc.fit_transform(x_train)  \n",
        "x_test = sc.transform(x_test) \n"
      ]
    },
    {
      "cell_type": "code",
      "execution_count": 67,
      "metadata": {
        "colab": {
          "base_uri": "https://localhost:8080/"
        },
        "id": "CzWXV4HgEq5z",
        "outputId": "3c4530db-17a7-46b6-a3f3-81197970364c"
      },
      "outputs": [
        {
          "data": {
            "text/plain": [
              "GaussianNB()"
            ]
          },
          "execution_count": 67,
          "metadata": {},
          "output_type": "execute_result"
        }
      ],
      "source": [
        "from sklearn.naive_bayes import GaussianNB  \n",
        "classifier = GaussianNB()  \n",
        "classifier.fit(x_train, y_train)  \n"
      ]
    },
    {
      "cell_type": "code",
      "execution_count": 68,
      "metadata": {
        "id": "jtEJSAaPEze4"
      },
      "outputs": [],
      "source": [
        "y_pred = classifier.predict(x_test)  \n"
      ]
    },
    {
      "cell_type": "code",
      "execution_count": 69,
      "metadata": {
        "colab": {
          "base_uri": "https://localhost:8080/"
        },
        "id": "_YSj-HHYE5Kr",
        "outputId": "ce5a346b-a7b2-452d-a70e-8e3a5d1f5b5e"
      },
      "outputs": [
        {
          "data": {
            "text/plain": [
              "0.8004640371229699"
            ]
          },
          "execution_count": 69,
          "metadata": {},
          "output_type": "execute_result"
        }
      ],
      "source": [
        "from sklearn.metrics import accuracy_score\n",
        "\n",
        "accuracy_score(y_test, y_pred) "
      ]
    },
    {
      "cell_type": "code",
      "execution_count": 70,
      "metadata": {
        "colab": {
          "base_uri": "https://localhost:8080/"
        },
        "id": "hqJqpyJQE7Dz",
        "outputId": "9fbec45d-4958-4fba-e2a7-58b551daed5c"
      },
      "outputs": [
        {
          "name": "stdout",
          "output_type": "stream",
          "text": [
            "[[327   7]\n",
            " [ 79  18]]\n"
          ]
        }
      ],
      "source": [
        "from sklearn.metrics import confusion_matrix  \n",
        "cm = confusion_matrix(y_test, y_pred)  \n",
        "\n",
        "print(cm)"
      ]
    },
    {
      "cell_type": "code",
      "execution_count": 71,
      "metadata": {
        "colab": {
          "base_uri": "https://localhost:8080/"
        },
        "id": "PklBC6N7o68y",
        "outputId": "2c6313e3-dfe4-413a-90a6-dc9f5915e631"
      },
      "outputs": [
        {
          "name": "stdout",
          "output_type": "stream",
          "text": [
            "              precision    recall  f1-score   support\n",
            "\n",
            "          No       0.81      0.98      0.88       334\n",
            "         Yes       0.72      0.19      0.30        97\n",
            "\n",
            "    accuracy                           0.80       431\n",
            "   macro avg       0.76      0.58      0.59       431\n",
            "weighted avg       0.79      0.80      0.75       431\n",
            "\n"
          ]
        }
      ],
      "source": [
        "from sklearn.metrics import classification_report\n",
        "\n",
        "print(classification_report(y_test,y_pred))"
      ]
    },
    {
      "cell_type": "code",
      "execution_count": 74,
      "metadata": {
        "id": "IG1r2X3YpVTJ"
      },
      "outputs": [],
      "source": [
        "TP = cm[0,0]\n",
        "TN = cm[1,1]\n",
        "FP = cm[0,1]\n",
        "FN = cm[1,0]"
      ]
    },
    {
      "cell_type": "code",
      "execution_count": 75,
      "metadata": {
        "colab": {
          "base_uri": "https://localhost:8080/"
        },
        "id": "2eajW7Xip2vJ",
        "outputId": "6d72a49e-bc18-482a-9d6d-96814c4662c3"
      },
      "outputs": [
        {
          "name": "stdout",
          "output_type": "stream",
          "text": [
            "Classification accuracy : 0.8005\n"
          ]
        }
      ],
      "source": [
        "classification_accuracy = (TP + TN) / float(TP + TN + FP + FN)\n",
        "\n",
        "print('Classification accuracy : {0:0.4f}'.format(classification_accuracy))"
      ]
    },
    {
      "cell_type": "code",
      "execution_count": 76,
      "metadata": {
        "colab": {
          "base_uri": "https://localhost:8080/"
        },
        "id": "1ip7goOhp6Mq",
        "outputId": "ec2bc797-4fa2-4ba7-e985-38e673e3c9c5"
      },
      "outputs": [
        {
          "name": "stdout",
          "output_type": "stream",
          "text": [
            "Classification error : 0.1995\n"
          ]
        }
      ],
      "source": [
        "# print classification error\n",
        "\n",
        "classification_error = (FP + FN) / float(TP + TN + FP + FN)\n",
        "\n",
        "print('Classification error : {0:0.4f}'.format(classification_error))"
      ]
    },
    {
      "cell_type": "code",
      "execution_count": 77,
      "metadata": {
        "colab": {
          "base_uri": "https://localhost:8080/"
        },
        "id": "A97yvx2np_hV",
        "outputId": "0fa17117-8a11-47e6-8944-1a395a0193ac"
      },
      "outputs": [
        {
          "name": "stdout",
          "output_type": "stream",
          "text": [
            "Precision : 0.9790\n"
          ]
        }
      ],
      "source": [
        "# print precision score\n",
        "\n",
        "precision = TP / float(TP + FP)\n",
        "\n",
        "\n",
        "print('Precision : {0:0.4f}'.format(precision))"
      ]
    },
    {
      "cell_type": "code",
      "execution_count": 78,
      "metadata": {
        "colab": {
          "base_uri": "https://localhost:8080/"
        },
        "id": "mFx_Q5RCqCmb",
        "outputId": "57e4cfef-00ce-41e0-d993-8dc7b8d96b84"
      },
      "outputs": [
        {
          "name": "stdout",
          "output_type": "stream",
          "text": [
            "Recall or Sensitivity : 0.8054\n"
          ]
        }
      ],
      "source": [
        "recall = TP / float(TP + FN)\n",
        "\n",
        "print('Recall or Sensitivity : {0:0.4f}'.format(recall))"
      ]
    },
    {
      "cell_type": "code",
      "execution_count": 79,
      "metadata": {
        "colab": {
          "base_uri": "https://localhost:8080/"
        },
        "id": "YoeqfDwpqGeL",
        "outputId": "8a0b5634-5205-43d5-ed4c-27392194c6b4"
      },
      "outputs": [
        {
          "name": "stdout",
          "output_type": "stream",
          "text": [
            "True Positive Rate : 0.8054\n"
          ]
        }
      ],
      "source": [
        "true_positive_rate = TP / float(TP + FN)\n",
        "\n",
        "\n",
        "print('True Positive Rate : {0:0.4f}'.format(true_positive_rate))"
      ]
    },
    {
      "cell_type": "code",
      "execution_count": 80,
      "metadata": {
        "colab": {
          "base_uri": "https://localhost:8080/"
        },
        "id": "fIidhDvsqMDC",
        "outputId": "c2586094-7f22-4e1a-adee-7f21a5b543ae"
      },
      "outputs": [
        {
          "name": "stdout",
          "output_type": "stream",
          "text": [
            "False Positive Rate : 0.2800\n"
          ]
        }
      ],
      "source": [
        "false_positive_rate = FP / float(FP + TN)\n",
        "\n",
        "\n",
        "print('False Positive Rate : {0:0.4f}'.format(false_positive_rate))"
      ]
    },
    {
      "cell_type": "code",
      "execution_count": 81,
      "metadata": {
        "colab": {
          "base_uri": "https://localhost:8080/"
        },
        "id": "3YMqw_fVqcCM",
        "outputId": "cec322e6-6d1c-40c1-f38a-0c63c367a533"
      },
      "outputs": [
        {
          "name": "stdout",
          "output_type": "stream",
          "text": [
            "Specificity : 0.7200\n"
          ]
        }
      ],
      "source": [
        "specificity = TN / (TN + FP)\n",
        "\n",
        "print('Specificity : {0:0.4f}'.format(specificity))"
      ]
    }
  ],
  "metadata": {
    "colab": {
      "collapsed_sections": [],
      "include_colab_link": true,
      "name": "Copy of Copy of Machine-Learning.ipynb",
      "provenance": []
    },
    "interpreter": {
      "hash": "10fcb3241a68ce0e04d754fde12038c1375cb765114c13751d78873897b8f475"
    },
    "kernelspec": {
      "display_name": "Python 3.9.7 ('base')",
      "language": "python",
      "name": "python3"
    },
    "language_info": {
      "codemirror_mode": {
        "name": "ipython",
        "version": 3
      },
      "file_extension": ".py",
      "mimetype": "text/x-python",
      "name": "python",
      "nbconvert_exporter": "python",
      "pygments_lexer": "ipython3",
      "version": "3.9.7"
    },
    "orig_nbformat": 4
  },
  "nbformat": 4,
  "nbformat_minor": 0
}
