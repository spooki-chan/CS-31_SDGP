{
  "nbformat": 4,
  "nbformat_minor": 0,
  "metadata": {
    "colab": {
      "name": "Natural Language Processing.ipynb",
      "provenance": [],
      "collapsed_sections": []
    },
    "kernelspec": {
      "name": "python3",
      "display_name": "Python 3"
    },
    "language_info": {
      "name": "python"
    }
  },
  "cells": [
    {
      "cell_type": "code",
      "execution_count": null,
      "metadata": {
        "id": "KI-ObzneCGGv"
      },
      "outputs": [],
      "source": [
        "import pandas as pd\n",
        "import difflib\n",
        "import numpy as np\n",
        "import pickle\n"
      ]
    },
    {
      "cell_type": "code",
      "source": [
        "recipe_data = pd.read_csv('newfood.csv',header=0,sep=\",\")\n",
        "recipe_data.head()"
      ],
      "metadata": {
        "id": "4bNROzddDLrW"
      },
      "execution_count": null,
      "outputs": []
    }
  ]
}