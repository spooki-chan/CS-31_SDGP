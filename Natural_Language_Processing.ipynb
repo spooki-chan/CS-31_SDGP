{
  "nbformat": 4,
  "nbformat_minor": 0,
  "metadata": {
    "colab": {
      "name": "Natural Language Processing.ipynb",
      "provenance": [],
      "collapsed_sections": [],
      "authorship_tag": "ABX9TyNrHG5eSMwo5DvxixSa8JOm",
      "include_colab_link": true
    },
    "kernelspec": {
      "name": "python3",
      "display_name": "Python 3"
    },
    "language_info": {
      "name": "python"
    }
  },
  "cells": [
    {
      "cell_type": "markdown",
      "metadata": {
        "id": "view-in-github",
        "colab_type": "text"
      },
      "source": [
        "<a href=\"https://colab.research.google.com/github/spooki-chan/CS-31_SDGP/blob/sub/Natural_Language_Processing.ipynb\" target=\"_parent\"><img src=\"https://colab.research.google.com/assets/colab-badge.svg\" alt=\"Open In Colab\"/></a>"
      ]
    },
    {
      "cell_type": "code",
      "execution_count": 13,
      "metadata": {
        "id": "KI-ObzneCGGv"
      },
      "outputs": [],
      "source": [
        "import pandas as pd\n",
        "import difflib\n",
        "import numpy as np\n",
        "import pickle"
      ]
    },
    {
      "cell_type": "code",
      "source": [
        "df=pd.read_csv(\"newfood.csv\")"
      ],
      "metadata": {
        "id": "ELTIjNA9I9JU"
      },
      "execution_count": null,
      "outputs": []
    }
  ]
}